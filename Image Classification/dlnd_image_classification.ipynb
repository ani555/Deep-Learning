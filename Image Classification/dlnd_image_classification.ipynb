{
 "cells": [
  {
   "cell_type": "markdown",
   "metadata": {
    "collapsed": true,
    "deletable": true,
    "editable": true
   },
   "source": [
    "# Image Classification\n",
    "In this project, you'll classify images from the [CIFAR-10 dataset](https://www.cs.toronto.edu/~kriz/cifar.html).  The dataset consists of airplanes, dogs, cats, and other objects. You'll preprocess the images, then train a convolutional neural network on all the samples. The images need to be normalized and the labels need to be one-hot encoded.  You'll get to apply what you learned and build a convolutional, max pooling, dropout, and fully connected layers.  At the end, you'll get to see your neural network's predictions on the sample images.\n",
    "## Get the Data\n",
    "Run the following cell to download the [CIFAR-10 dataset for python](https://www.cs.toronto.edu/~kriz/cifar-10-python.tar.gz)."
   ]
  },
  {
   "cell_type": "code",
   "execution_count": 1,
   "metadata": {
    "collapsed": false,
    "deletable": true,
    "editable": true
   },
   "outputs": [
    {
     "name": "stdout",
     "output_type": "stream",
     "text": [
      "All files found!\n"
     ]
    }
   ],
   "source": [
    "\"\"\"\n",
    "DON'T MODIFY ANYTHING IN THIS CELL THAT IS BELOW THIS LINE\n",
    "\"\"\"\n",
    "from urllib.request import urlretrieve\n",
    "from os.path import isfile, isdir\n",
    "from tqdm import tqdm\n",
    "import problem_unittests as tests\n",
    "import tarfile\n",
    "\n",
    "cifar10_dataset_folder_path = 'cifar-10-batches-py'\n",
    "\n",
    "# Use Floyd's cifar-10 dataset if present\n",
    "floyd_cifar10_location = '/input/cifar-10/python.tar.gz'\n",
    "if isfile(floyd_cifar10_location):\n",
    "    tar_gz_path = floyd_cifar10_location\n",
    "else:\n",
    "    tar_gz_path = 'cifar-10-python.tar.gz'\n",
    "\n",
    "class DLProgress(tqdm):\n",
    "    last_block = 0\n",
    "\n",
    "    def hook(self, block_num=1, block_size=1, total_size=None):\n",
    "        self.total = total_size\n",
    "        self.update((block_num - self.last_block) * block_size)\n",
    "        self.last_block = block_num\n",
    "\n",
    "if not isfile(tar_gz_path):\n",
    "    with DLProgress(unit='B', unit_scale=True, miniters=1, desc='CIFAR-10 Dataset') as pbar:\n",
    "        urlretrieve(\n",
    "            'https://www.cs.toronto.edu/~kriz/cifar-10-python.tar.gz',\n",
    "            tar_gz_path,\n",
    "            pbar.hook)\n",
    "\n",
    "if not isdir(cifar10_dataset_folder_path):\n",
    "    with tarfile.open(tar_gz_path) as tar:\n",
    "        tar.extractall()\n",
    "        tar.close()\n",
    "\n",
    "\n",
    "tests.test_folder_path(cifar10_dataset_folder_path)"
   ]
  },
  {
   "cell_type": "markdown",
   "metadata": {
    "deletable": true,
    "editable": true
   },
   "source": [
    "## Explore the Data\n",
    "The dataset is broken into batches to prevent your machine from running out of memory.  The CIFAR-10 dataset consists of 5 batches, named `data_batch_1`, `data_batch_2`, etc.. Each batch contains the labels and images that are one of the following:\n",
    "* airplane\n",
    "* automobile\n",
    "* bird\n",
    "* cat\n",
    "* deer\n",
    "* dog\n",
    "* frog\n",
    "* horse\n",
    "* ship\n",
    "* truck\n",
    "\n",
    "Understanding a dataset is part of making predictions on the data.  Play around with the code cell below by changing the `batch_id` and `sample_id`. The `batch_id` is the id for a batch (1-5). The `sample_id` is the id for a image and label pair in the batch.\n",
    "\n",
    "Ask yourself \"What are all possible labels?\", \"What is the range of values for the image data?\", \"Are the labels in order or random?\".  Answers to questions like these will help you preprocess the data and end up with better predictions."
   ]
  },
  {
   "cell_type": "code",
   "execution_count": 2,
   "metadata": {
    "collapsed": false,
    "deletable": true,
    "editable": true
   },
   "outputs": [
    {
     "name": "stdout",
     "output_type": "stream",
     "text": [
      "\n",
      "Stats of batch 1:\n",
      "Samples: 10000\n",
      "Label Counts: {0: 1005, 1: 974, 2: 1032, 3: 1016, 4: 999, 5: 937, 6: 1030, 7: 1001, 8: 1025, 9: 981}\n",
      "First 20 Labels: [6, 9, 9, 4, 1, 1, 2, 7, 8, 3, 4, 7, 7, 2, 9, 9, 9, 3, 2, 6]\n",
      "\n",
      "Example of Image 5:\n",
      "Image - Min Value: 0 Max Value: 252\n",
      "Image - Shape: (32, 32, 3)\n",
      "Label - Label Id: 1 Name: automobile\n"
     ]
    },
    {
     "data": {
      "image/png": "[encoded data removed]",
      "text/plain": [
       "<matplotlib.figure.Figure at 0x7fce179b8860>"
      ]
     },
     "metadata": {
      "image/png": {
       "height": 250,
       "width": 253
      }
     },
     "output_type": "display_data"
    }
   ],
   "source": [
    "%matplotlib inline\n",
    "%config InlineBackend.figure_format = 'retina'\n",
    "\n",
    "import helper\n",
    "import numpy as np\n",
    "\n",
    "# Explore the dataset\n",
    "batch_id = 1\n",
    "sample_id = 5\n",
    "helper.display_stats(cifar10_dataset_folder_path, batch_id, sample_id)"
   ]
  },
  {
   "cell_type": "markdown",
   "metadata": {
    "deletable": true,
    "editable": true
   },
   "source": [
    "## Implement Preprocess Functions\n",
    "### Normalize\n",
    "In the cell below, implement the `normalize` function to take in image data, `x`, and return it as a normalized Numpy array. The values should be in the range of 0 to 1, inclusive.  The return object should be the same shape as `x`."
   ]
  },
  {
   "cell_type": "code",
   "execution_count": 3,
   "metadata": {
    "collapsed": false,
    "deletable": true,
    "editable": true
   },
   "outputs": [
    {
     "name": "stdout",
     "output_type": "stream",
     "text": [
      "Tests Passed\n"
     ]
    }
   ],
   "source": [
    "def normalize(x):\n",
    "    \"\"\"\n",
    "    Normalize a list of sample image data in the range of 0 to 1\n",
    "    : x: List of image data.  The image shape is (32, 32, 3)\n",
    "    : return: Numpy array of normalize data\n",
    "    \"\"\"\n",
    "    # TODO: Implement Function\n",
    "    a = 0.1\n",
    "    b = 1.0\n",
    "    xmax = 255\n",
    "    xmin = 0\n",
    "    return a+((x-xmin)*(b-a))/(xmax-xmin)\n",
    "\n",
    "\n",
    "\"\"\"\n",
    "DON'T MODIFY ANYTHING IN THIS CELL THAT IS BELOW THIS LINE\n",
    "\"\"\"\n",
    "tests.test_normalize(normalize)"
   ]
  },
  {
   "cell_type": "markdown",
   "metadata": {
    "deletable": true,
    "editable": true
   },
   "source": [
    "### One-hot encode\n",
    "Just like the previous code cell, you'll be implementing a function for preprocessing.  This time, you'll implement the `one_hot_encode` function. The input, `x`, are a list of labels.  Implement the function to return the list of labels as One-Hot encoded Numpy array.  The possible values for labels are 0 to 9. The one-hot encoding function should return the same encoding for each value between each call to `one_hot_encode`.  Make sure to save the map of encodings outside the function.\n",
    "\n",
    "Hint: Don't reinvent the wheel."
   ]
  },
  {
   "cell_type": "code",
   "execution_count": 4,
   "metadata": {
    "collapsed": false,
    "deletable": true,
    "editable": true
   },
   "outputs": [
    {
     "name": "stdout",
     "output_type": "stream",
     "text": [
      "Tests Passed\n"
     ]
    }
   ],
   "source": [
    "num_labels = 10\n",
    "encoding_map = np.eye(num_labels,num_labels)\n",
    "\n",
    "def one_hot_encode(x):\n",
    "    \"\"\"\n",
    "    One hot encode a list of sample labels. Return a one-hot encoded vector for each label.\n",
    "    : x: List of sample Labels\n",
    "    : return: Numpy array of one-hot encoded labels\n",
    "    \"\"\"\n",
    "    # TODO: Implement Function\n",
    "    one_hot = []\n",
    "    for i in x:\n",
    "        one_hot.append(encoding_map[i,:])\n",
    "    \n",
    "    return np.array(one_hot)\n",
    "\n",
    "\n",
    "\n",
    "\"\"\"\n",
    "DON'T MODIFY ANYTHING IN THIS CELL THAT IS BELOW THIS LINE\n",
    "\"\"\"\n",
    "tests.test_one_hot_encode(one_hot_encode)"
   ]
  },
  {
   "cell_type": "markdown",
   "metadata": {
    "deletable": true,
    "editable": true
   },
   "source": [
    "### Randomize Data\n",
    "As you saw from exploring the data above, the order of the samples are randomized.  It doesn't hurt to randomize it again, but you don't need to for this dataset."
   ]
  },
  {
   "cell_type": "markdown",
   "metadata": {
    "deletable": true,
    "editable": true
   },
   "source": [
    "## Preprocess all the data and save it\n",
    "Running the code cell below will preprocess all the CIFAR-10 data and save it to file. The code below also uses 10% of the training data for validation."
   ]
  },
  {
   "cell_type": "code",
   "execution_count": 5,
   "metadata": {
    "collapsed": false,
    "deletable": true,
    "editable": true
   },
   "outputs": [],
   "source": [
    "\"\"\"\n",
    "DON'T MODIFY ANYTHING IN THIS CELL\n",
    "\"\"\"\n",
    "# Preprocess Training, Validation, and Testing Data\n",
    "helper.preprocess_and_save_data(cifar10_dataset_folder_path, normalize, one_hot_encode)"
   ]
  },
  {
   "cell_type": "markdown",
   "metadata": {
    "deletable": true,
    "editable": true
   },
   "source": [
    "# Check Point\n",
    "This is your first checkpoint.  If you ever decide to come back to this notebook or have to restart the notebook, you can start from here.  The preprocessed data has been saved to disk."
   ]
  },
  {
   "cell_type": "code",
   "execution_count": 6,
   "metadata": {
    "collapsed": true,
    "deletable": true,
    "editable": true
   },
   "outputs": [],
   "source": [
    "\"\"\"\n",
    "DON'T MODIFY ANYTHING IN THIS CELL\n",
    "\"\"\"\n",
    "import pickle\n",
    "import problem_unittests as tests\n",
    "import helper\n",
    "\n",
    "# Load the Preprocessed Validation data\n",
    "valid_features, valid_labels = pickle.load(open('preprocess_validation.p', mode='rb'))"
   ]
  },
  {
   "cell_type": "markdown",
   "metadata": {
    "deletable": true,
    "editable": true
   },
   "source": [
    "## Build the network\n",
    "For the neural network, you'll build each layer into a function.  Most of the code you've seen has been outside of functions. To test your code more thoroughly, we require that you put each layer in a function.  This allows us to give you better feedback and test for simple mistakes using our unittests before you submit your project.\n",
    "\n",
    "If you're finding it hard to dedicate enough time for this course a week, we've provided a small shortcut to this part of the project. In the next couple of problems, you'll have the option to use [TensorFlow Layers](https://www.tensorflow.org/api_docs/python/tf/layers) or [TensorFlow Layers (contrib)](https://www.tensorflow.org/api_guides/python/contrib.layers) to build each layer, except \"Convolutional & Max Pooling\" layer.  TF Layers is similar to Keras's and TFLearn's abstraction to layers, so it's easy to pickup.\n",
    "\n",
    "If you would like to get the most of this course, try to solve all the problems without TF Layers.  Let's begin!\n",
    "### Input\n",
    "The neural network needs to read the image data, one-hot encoded labels, and dropout keep probability. Implement the following functions\n",
    "* Implement `neural_net_image_input`\n",
    " * Return a [TF Placeholder](https://www.tensorflow.org/api_docs/python/tf/placeholder)\n",
    " * Set the shape using `image_shape` with batch size set to `None`.\n",
    " * Name the TensorFlow placeholder \"x\" using the TensorFlow `name` parameter in the [TF Placeholder](https://www.tensorflow.org/api_docs/python/tf/placeholder).\n",
    "* Implement `neural_net_label_input`\n",
    " * Return a [TF Placeholder](https://www.tensorflow.org/api_docs/python/tf/placeholder)\n",
    " * Set the shape using `n_classes` with batch size set to `None`.\n",
    " * Name the TensorFlow placeholder \"y\" using the TensorFlow `name` parameter in the [TF Placeholder](https://www.tensorflow.org/api_docs/python/tf/placeholder).\n",
    "* Implement `neural_net_keep_prob_input`\n",
    " * Return a [TF Placeholder](https://www.tensorflow.org/api_docs/python/tf/placeholder) for dropout keep probability.\n",
    " * Name the TensorFlow placeholder \"keep_prob\" using the TensorFlow `name` parameter in the [TF Placeholder](https://www.tensorflow.org/api_docs/python/tf/placeholder).\n",
    "\n",
    "These names will be used at the end of the project to load your saved model.\n",
    "\n",
    "Note: `None` for shapes in TensorFlow allow for a dynamic size."
   ]
  },
  {
   "cell_type": "code",
   "execution_count": 8,
   "metadata": {
    "collapsed": false,
    "deletable": true,
    "editable": true
   },
   "outputs": [
    {
     "name": "stdout",
     "output_type": "stream",
     "text": [
      "Image Input Tests Passed.\n",
      "Label Input Tests Passed.\n",
      "Keep Prob Tests Passed.\n"
     ]
    }
   ],
   "source": [
    "import tensorflow as tf\n",
    "\n",
    "def neural_net_image_input(image_shape):\n",
    "    \"\"\"\n",
    "    Return a Tensor for a bach of image input\n",
    "    : image_shape: Shape of the images\n",
    "    : return: Tensor for image input.\n",
    "    \"\"\"\n",
    "    # TODO: Implement Function\n",
    "    return tf.placeholder(tf.float32,[None,image_shape[0],image_shape[1],image_shape[2]],\"x\")\n",
    "\n",
    "\n",
    "def neural_net_label_input(n_classes):\n",
    "    \"\"\"\n",
    "    Return a Tensor for a batch of label input\n",
    "    : n_classes: Number of classes\n",
    "    : return: Tensor for label input.\n",
    "    \"\"\"\n",
    "    # TODO: Implement Function\n",
    "    return tf.placeholder(tf.float32,[None,n_classes],\"y\")\n",
    "\n",
    "\n",
    "def neural_net_keep_prob_input():\n",
    "    \"\"\"\n",
    "    Return a Tensor for keep probability\n",
    "    : return: Tensor for keep probability.\n",
    "    \"\"\"\n",
    "    # TODO: Implement Function\n",
    "    return tf.placeholder(tf.float32,name=\"keep_prob\")\n",
    "\n",
    "\n",
    "\"\"\"\n",
    "DON'T MODIFY ANYTHING IN THIS CELL THAT IS BELOW THIS LINE\n",
    "\"\"\"\n",
    "tf.reset_default_graph()\n",
    "tests.test_nn_image_inputs(neural_net_image_input)\n",
    "tests.test_nn_label_inputs(neural_net_label_input)\n",
    "tests.test_nn_keep_prob_inputs(neural_net_keep_prob_input)"
   ]
  },
  {
   "cell_type": "markdown",
   "metadata": {
    "deletable": true,
    "editable": true
   },
   "source": [
    "### Convolution and Max Pooling Layer\n",
    "Convolution layers have a lot of success with images. For this code cell, you should implement the function `conv2d_maxpool` to apply convolution then max pooling:\n",
    "* Create the weight and bias using `conv_ksize`, `conv_num_outputs` and the shape of `x_tensor`.\n",
    "* Apply a convolution to `x_tensor` using weight and `conv_strides`.\n",
    " * We recommend you use same padding, but you're welcome to use any padding.\n",
    "* Add bias\n",
    "* Add a nonlinear activation to the convolution.\n",
    "* Apply Max Pooling using `pool_ksize` and `pool_strides`.\n",
    " * We recommend you use same padding, but you're welcome to use any padding.\n",
    "\n",
    "Note: You **can't** use [TensorFlow Layers](https://www.tensorflow.org/api_docs/python/tf/layers) or [TensorFlow Layers (contrib)](https://www.tensorflow.org/api_guides/python/contrib.layers) for this layer.  You're free to use any TensorFlow package for all the other layers."
   ]
  },
  {
   "cell_type": "code",
   "execution_count": 19,
   "metadata": {
    "collapsed": false,
    "deletable": true,
    "editable": true
   },
   "outputs": [
    {
     "name": "stdout",
     "output_type": "stream",
     "text": [
      "[None, 32, 32, 5]\n",
      "Tests Passed\n"
     ]
    }
   ],
   "source": [
    "def conv2d_maxpool(x_tensor, conv_num_outputs, conv_ksize, conv_strides, pool_ksize, pool_strides):\n",
    "    \"\"\"\n",
    "    Apply convolution then max pooling to x_tensor\n",
    "    :param x_tensor: TensorFlow Tensor\n",
    "    :param conv_num_outputs: Number of outputs for the convolutional layer\n",
    "    :param conv_ksize: kernal size 2-D Tuple for the convolutional layer\n",
    "    :param conv_strides: Stride 2-D Tuple for convolution\n",
    "    :param pool_ksize: kernal size 2-D Tuple for pool\n",
    "    :param pool_strides: Stride 2-D Tuple for pool\n",
    "    : return: A tensor that represents convolution and max pooling of x_tensor\n",
    "    \"\"\"\n",
    "    \n",
    "    # TODO: Implement Function\n",
    "    x_shape = x_tensor.get_shape().as_list()\n",
    "    img_width = x_shape[1]\n",
    "    img_height = x_shape[2]\n",
    "    channels = x_shape[3]\n",
    "    weight = tf.Variable(tf.truncated_normal([conv_ksize[0],conv_ksize[1],channels,conv_num_outputs]))\n",
    "    bias = tf.Variable(tf.zeros(conv_num_outputs))\n",
    "    conv_layer = tf.nn.conv2d(x_tensor,weight,strides=[1,conv_strides[0],conv_strides[1],1],padding='SAME')\n",
    "    conv_layer = tf.nn.bias_add(conv_layer,bias)\n",
    "    conv_layer = tf.nn.relu(conv_layer)\n",
    "    conv_layer = tf.nn.max_pool(conv_layer,ksize=[1,pool_ksize[0],pool_ksize[1],1],strides=[1,pool_strides[0],pool_strides[1],1],padding='SAME')\n",
    "    return conv_layer\n",
    "\n",
    "\n",
    "\"\"\"\n",
    "DON'T MODIFY ANYTHING IN THIS CELL THAT IS BELOW THIS LINE\n",
    "\"\"\"\n",
    "tests.test_con_pool(conv2d_maxpool)"
   ]
  },
  {
   "cell_type": "markdown",
   "metadata": {
    "deletable": true,
    "editable": true
   },
   "source": [
    "### Flatten Layer\n",
    "Implement the `flatten` function to change the dimension of `x_tensor` from a 4-D tensor to a 2-D tensor.  The output should be the shape (*Batch Size*, *Flattened Image Size*). You can use [TensorFlow Layers](https://www.tensorflow.org/api_docs/python/tf/layers) or [TensorFlow Layers (contrib)](https://www.tensorflow.org/api_guides/python/contrib.layers) for this layer."
   ]
  },
  {
   "cell_type": "code",
   "execution_count": 20,
   "metadata": {
    "collapsed": false,
    "deletable": true,
    "editable": true
   },
   "outputs": [
    {
     "name": "stdout",
     "output_type": "stream",
     "text": [
      "Tests Passed\n"
     ]
    }
   ],
   "source": [
    "def flatten(x_tensor):\n",
    "    \"\"\"\n",
    "    Flatten x_tensor to (Batch Size, Flattened Image Size)\n",
    "    : x_tensor: A tensor of size (Batch Size, ...), where ... are the image dimensions.\n",
    "    : return: A tensor of size (Batch Size, Flattened Image Size).\n",
    "    \"\"\"\n",
    "    x_shape = x_tensor.get_shape().as_list()\n",
    "    img_width = x_shape[1]\n",
    "    img_height = x_shape[2]\n",
    "    channels = x_shape[3]\n",
    "\n",
    "    # TODO: Implement Function\n",
    "    return tf.reshape(x_tensor,[-1,img_width*img_height*channels])\n",
    "\n",
    "\n",
    "\"\"\"\n",
    "DON'T MODIFY ANYTHING IN THIS CELL THAT IS BELOW THIS LINE\n",
    "\"\"\"\n",
    "tests.test_flatten(flatten)"
   ]
  },
  {
   "cell_type": "markdown",
   "metadata": {
    "deletable": true,
    "editable": true
   },
   "source": [
    "### Fully-Connected Layer\n",
    "Implement the `fully_conn` function to apply a fully connected layer to `x_tensor` with the shape (*Batch Size*, *num_outputs*). You can use [TensorFlow Layers](https://www.tensorflow.org/api_docs/python/tf/layers) or [TensorFlow Layers (contrib)](https://www.tensorflow.org/api_guides/python/contrib.layers) for this layer."
   ]
  },
  {
   "cell_type": "code",
   "execution_count": 23,
   "metadata": {
    "collapsed": false,
    "deletable": true,
    "editable": true
   },
   "outputs": [
    {
     "name": "stdout",
     "output_type": "stream",
     "text": [
      "Tests Passed\n"
     ]
    }
   ],
   "source": [
    "def fully_conn(x_tensor, num_outputs):\n",
    "    \"\"\"\n",
    "    Apply a fully connected layer to x_tensor using weight and bias\n",
    "    : x_tensor: A 2-D tensor where the first dimension is batch size.\n",
    "    : num_outputs: The number of output that the new tensor should be.\n",
    "    : return: A 2-D tensor where the second dimension is num_outputs.\n",
    "    \"\"\"\n",
    "    x_shape = x_tensor.get_shape().as_list()\n",
    "    # TODO: Implement Function\n",
    "    weights = tf.Variable(tf.truncated_normal([x_shape[1],num_outputs]))\n",
    "    bias = tf.Variable(tf.zeros(num_outputs))\n",
    "    output = tf.add(tf.matmul(x_tensor,weights),bias)\n",
    "    output = tf.nn.relu(output)\n",
    "    return output\n",
    "\n",
    "\n",
    "\"\"\"\n",
    "DON'T MODIFY ANYTHING IN THIS CELL THAT IS BELOW THIS LINE\n",
    "\"\"\"\n",
    "tests.test_fully_conn(fully_conn)"
   ]
  },
  {
   "cell_type": "markdown",
   "metadata": {
    "deletable": true,
    "editable": true
   },
   "source": [
    "### Output Layer\n",
    "Implement the `output` function to apply a fully connected layer to `x_tensor` with the shape (*Batch Size*, *num_outputs*). You can use [TensorFlow Layers](https://www.tensorflow.org/api_docs/python/tf/layers) or [TensorFlow Layers (contrib)](https://www.tensorflow.org/api_guides/python/contrib.layers) for this layer.\n",
    "\n",
    "Note: Activation, softmax, or cross entropy shouldn't be applied to this."
   ]
  },
  {
   "cell_type": "code",
   "execution_count": 24,
   "metadata": {
    "collapsed": false,
    "deletable": true,
    "editable": true
   },
   "outputs": [
    {
     "name": "stdout",
     "output_type": "stream",
     "text": [
      "Tests Passed\n"
     ]
    }
   ],
   "source": [
    "def output(x_tensor, num_outputs):\n",
    "    \"\"\"\n",
    "    Apply a output layer to x_tensor using weight and bias\n",
    "    : x_tensor: A 2-D tensor where the first dimension is batch size.\n",
    "    : num_outputs: The number of output that the new tensor should be.\n",
    "    : return: A 2-D tensor where the second dimension is num_outputs.\n",
    "    \"\"\"\n",
    "    # TODO: Implement Function\n",
    "    x_shape = x_tensor.get_shape().as_list()\n",
    "    # TODO: Implement Function\n",
    "    weights = tf.Variable(tf.truncated_normal([x_shape[1],num_outputs]))\n",
    "    bias = tf.Variable(tf.zeros(num_outputs))\n",
    "    output = tf.add(tf.matmul(x_tensor,weights),bias)\n",
    "    return output\n",
    "\n",
    "\n",
    "\n",
    "\"\"\"\n",
    "DON'T MODIFY ANYTHING IN THIS CELL THAT IS BELOW THIS LINE\n",
    "\"\"\"\n",
    "tests.test_output(output)"
   ]
  },
  {
   "cell_type": "markdown",
   "metadata": {
    "deletable": true,
    "editable": true
   },
   "source": [
    "### Create Convolutional Model\n",
    "Implement the function `conv_net` to create a convolutional neural network model. The function takes in a batch of images, `x`, and outputs logits.  Use the layers you created above to create this model:\n",
    "\n",
    "* Apply 1, 2, or 3 Convolution and Max Pool layers\n",
    "* Apply a Flatten Layer\n",
    "* Apply 1, 2, or 3 Fully Connected Layers\n",
    "* Apply an Output Layer\n",
    "* Return the output\n",
    "* Apply [TensorFlow's Dropout](https://www.tensorflow.org/api_docs/python/tf/nn/dropout) to one or more layers in the model using `keep_prob`. "
   ]
  },
  {
   "cell_type": "code",
   "execution_count": 131,
   "metadata": {
    "collapsed": false,
    "deletable": true,
    "editable": true
   },
   "outputs": [
    {
     "name": "stdout",
     "output_type": "stream",
     "text": [
      "[None, 32, 32, 3]\n",
      "[None, 16, 16, 32]\n",
      "[None, 32, 32, 3]\n",
      "[None, 16, 16, 32]\n",
      "Neural Network Built!\n"
     ]
    }
   ],
   "source": [
    "def conv_net(x, keep_prob):\n",
    "    \"\"\"\n",
    "    Create a convolutional neural network model\n",
    "    : x: Placeholder tensor that holds image data.\n",
    "    : keep_prob: Placeholder tensor that hold dropout keep probability.\n",
    "    : return: Tensor that represents logits\n",
    "    \"\"\"\n",
    "    # TODO: Apply 1, 2, or 3 Convolution and Max Pool layers\n",
    "    #    Play around with different number of outputs, kernel size and stride\n",
    "    # Function Definition from Above:\n",
    "    #    conv2d_maxpool(x_tensor, conv_num_outputs, conv_ksize, conv_strides, pool_ksize, pool_strides)\n",
    "    conv_op=conv2d_maxpool(x,32,[3,3],[1,1],[3,3],[2,2])\n",
    "    conv_op=conv2d_maxpool(conv_op,64,[3,3],[1,1],[3,3],[2,2])\n",
    "    #conv_op=conv2d_maxpool(conv_op,128,[5,5],[1,1],[3,3],[2,2])\n",
    "    # TODO: Apply a Flatten Layer\n",
    "    # Function Definition from Above:\n",
    "    #   flatten(x_tensor)\n",
    "    conv_op=flatten(conv_op)\n",
    "\n",
    "    # TODO: Apply 1, 2, or 3 Fully Connected Layers\n",
    "    #    Play around with different number of outputs\n",
    "    # Function Definition from Above:\n",
    "    #   fully_conn(x_tensor, num_outputs)\n",
    "    fc_op = fully_conn(conv_op,1024)\n",
    "    fc_op = tf.nn.dropout(fc_op, keep_prob)\n",
    "    fc_op = fully_conn(fc_op,512)\n",
    "    fc_op = tf.nn.dropout(fc_op, keep_prob)\n",
    "    # TODO: Apply an Output Layer\n",
    "    #    Set this to the number of classes\n",
    "    # Function Definition from Above:\n",
    "    #   output(x_tensor, num_outputs)\n",
    "    logits = output(fc_op,10)\n",
    "    \n",
    "    # TODO: return output\n",
    "    return logits\n",
    "\n",
    "\n",
    "\"\"\"\n",
    "DON'T MODIFY ANYTHING IN THIS CELL THAT IS BELOW THIS LINE\n",
    "\"\"\"\n",
    "\n",
    "##############################\n",
    "## Build the Neural Network ##\n",
    "##############################\n",
    "\n",
    "# Remove previous weights, bias, inputs, etc..\n",
    "tf.reset_default_graph()\n",
    "\n",
    "# Inputs\n",
    "x = neural_net_image_input((32, 32, 3))\n",
    "y = neural_net_label_input(10)\n",
    "keep_prob = neural_net_keep_prob_input()\n",
    "\n",
    "# Model\n",
    "logits = conv_net(x, keep_prob)\n",
    "\n",
    "# Name logits Tensor, so that is can be loaded from disk after training\n",
    "logits = tf.identity(logits, name='logits')\n",
    "\n",
    "# Loss and Optimizer\n",
    "cost = tf.reduce_mean(tf.nn.softmax_cross_entropy_with_logits(logits=logits, labels=y))\n",
    "optimizer = tf.train.AdamOptimizer().minimize(cost)\n",
    "\n",
    "# Accuracy\n",
    "correct_pred = tf.equal(tf.argmax(logits, 1), tf.argmax(y, 1))\n",
    "accuracy = tf.reduce_mean(tf.cast(correct_pred, tf.float32), name='accuracy')\n",
    "\n",
    "tests.test_conv_net(conv_net)"
   ]
  },
  {
   "cell_type": "markdown",
   "metadata": {
    "deletable": true,
    "editable": true
   },
   "source": [
    "## Train the Neural Network\n",
    "### Single Optimization\n",
    "Implement the function `train_neural_network` to do a single optimization.  The optimization should use `optimizer` to optimize in `session` with a `feed_dict` of the following:\n",
    "* `x` for image input\n",
    "* `y` for labels\n",
    "* `keep_prob` for keep probability for dropout\n",
    "\n",
    "This function will be called for each batch, so `tf.global_variables_initializer()` has already been called.\n",
    "\n",
    "Note: Nothing needs to be returned. This function is only optimizing the neural network."
   ]
  },
  {
   "cell_type": "code",
   "execution_count": 132,
   "metadata": {
    "collapsed": false,
    "deletable": true,
    "editable": true
   },
   "outputs": [
    {
     "name": "stdout",
     "output_type": "stream",
     "text": [
      "Tests Passed\n"
     ]
    }
   ],
   "source": [
    "def train_neural_network(session, optimizer, keep_probability, feature_batch, label_batch):\n",
    "    \"\"\"\n",
    "    Optimize the session on a batch of images and labels\n",
    "    : session: Current TensorFlow session\n",
    "    : optimizer: TensorFlow optimizer function\n",
    "    : keep_probability: keep probability\n",
    "    : feature_batch: Batch of Numpy image data\n",
    "    : label_batch: Batch of Numpy label data\n",
    "    \"\"\"\n",
    "    # TODO: Implement Function\n",
    "    session.run(optimizer,feed_dict={x:feature_batch,y:label_batch,keep_prob:keep_probability})\n",
    "\n",
    "\n",
    "\"\"\"\n",
    "DON'T MODIFY ANYTHING IN THIS CELL THAT IS BELOW THIS LINE\n",
    "\"\"\"\n",
    "tests.test_train_nn(train_neural_network)"
   ]
  },
  {
   "cell_type": "markdown",
   "metadata": {
    "deletable": true,
    "editable": true
   },
   "source": [
    "### Show Stats\n",
    "Implement the function `print_stats` to print loss and validation accuracy.  Use the global variables `valid_features` and `valid_labels` to calculate validation accuracy.  Use a keep probability of `1.0` to calculate the loss and validation accuracy."
   ]
  },
  {
   "cell_type": "code",
   "execution_count": 133,
   "metadata": {
    "collapsed": false,
    "deletable": true,
    "editable": true
   },
   "outputs": [],
   "source": [
    "def print_stats(session, feature_batch, label_batch, cost, accuracy):\n",
    "    \"\"\"\n",
    "    Print information about loss and validation accuracy\n",
    "    : session: Current TensorFlow session\n",
    "    : feature_batch: Batch of Numpy image data\n",
    "    : label_batch: Batch of Numpy label data\n",
    "    : cost: TensorFlow cost function\n",
    "    : accuracy: TensorFlow accuracy function\n",
    "    \"\"\"\n",
    "    # TODO: Implement Function\n",
    "    loss = session.run(cost,feed_dict={x:feature_batch,y:label_batch,keep_prob:1.0})\n",
    "    valid_ac=session.run(accuracy,feed_dict={x:valid_features,y:valid_labels,keep_prob:1.0})\n",
    "    print(\"Loss: {:>.4f}  Validation accuracy: {:>.4f}\".format(loss,valid_ac))"
   ]
  },
  {
   "cell_type": "markdown",
   "metadata": {
    "deletable": true,
    "editable": true
   },
   "source": [
    "### Hyperparameters\n",
    "Tune the following parameters:\n",
    "* Set `epochs` to the number of iterations until the network stops learning or start overfitting\n",
    "* Set `batch_size` to the highest number that your machine has memory for.  Most people set them to common sizes of memory:\n",
    " * 64\n",
    " * 128\n",
    " * 256\n",
    " * ...\n",
    "* Set `keep_probability` to the probability of keeping a node using dropout"
   ]
  },
  {
   "cell_type": "code",
   "execution_count": 143,
   "metadata": {
    "collapsed": true,
    "deletable": true,
    "editable": true
   },
   "outputs": [],
   "source": [
    "# TODO: Tune Parameters\n",
    "epochs = 30\n",
    "batch_size = 128\n",
    "keep_probability = 1.0 #keep_prob value less than 1.o was causing the validation accuracy to fall"
   ]
  },
  {
   "cell_type": "markdown",
   "metadata": {
    "deletable": true,
    "editable": true
   },
   "source": [
    "### Train on a Single CIFAR-10 Batch\n",
    "Instead of training the neural network on all the CIFAR-10 batches of data, let's use a single batch. This should save time while you iterate on the model to get a better accuracy.  Once the final validation accuracy is 50% or greater, run the model on all the data in the next section."
   ]
  },
  {
   "cell_type": "code",
   "execution_count": 144,
   "metadata": {
    "collapsed": false,
    "deletable": true,
    "editable": true
   },
   "outputs": [
    {
     "name": "stdout",
     "output_type": "stream",
     "text": [
      "Checking the Training on a Single Batch...\n",
      "Epoch  1, CIFAR-10 Batch 1:  Loss: 81157.6094  Validation accuracy: 0.2236\n",
      "Epoch  2, CIFAR-10 Batch 1:  Loss: 56053.1016  Validation accuracy: 0.2860\n",
      "Epoch  3, CIFAR-10 Batch 1:  Loss: 48925.0273  Validation accuracy: 0.3088\n",
      "Epoch  4, CIFAR-10 Batch 1:  Loss: 37261.7812  Validation accuracy: 0.3374\n",
      "Epoch  5, CIFAR-10 Batch 1:  Loss: 26795.5039  Validation accuracy: 0.3596\n",
      "Epoch  6, CIFAR-10 Batch 1:  Loss: 19513.4180  Validation accuracy: 0.3778\n",
      "Epoch  7, CIFAR-10 Batch 1:  Loss: 16025.2119  Validation accuracy: 0.3762\n",
      "Epoch  8, CIFAR-10 Batch 1:  Loss: 15284.8262  Validation accuracy: 0.3774\n",
      "Epoch  9, CIFAR-10 Batch 1:  Loss: 13370.5195  Validation accuracy: 0.3898\n",
      "Epoch 10, CIFAR-10 Batch 1:  Loss: 11619.5195  Validation accuracy: 0.3846\n",
      "Epoch 11, CIFAR-10 Batch 1:  Loss: 8999.3027  Validation accuracy: 0.3732\n",
      "Epoch 12, CIFAR-10 Batch 1:  Loss: 6141.3560  Validation accuracy: 0.3922\n",
      "Epoch 13, CIFAR-10 Batch 1:  Loss: 5555.5776  Validation accuracy: 0.4076\n",
      "Epoch 14, CIFAR-10 Batch 1:  Loss: 5415.6855  Validation accuracy: 0.4168\n",
      "Epoch 15, CIFAR-10 Batch 1:  Loss: 3808.8577  Validation accuracy: 0.4152\n",
      "Epoch 16, CIFAR-10 Batch 1:  Loss: 3079.4165  Validation accuracy: 0.4248\n",
      "Epoch 17, CIFAR-10 Batch 1:  Loss: 3574.5669  Validation accuracy: 0.4166\n",
      "Epoch 18, CIFAR-10 Batch 1:  Loss: 2819.3474  Validation accuracy: 0.4334\n",
      "Epoch 19, CIFAR-10 Batch 1:  Loss: 3510.4180  Validation accuracy: 0.4064\n",
      "Epoch 20, CIFAR-10 Batch 1:  Loss: 3545.4797  Validation accuracy: 0.4222\n",
      "Epoch 21, CIFAR-10 Batch 1:  Loss: 2817.0688  Validation accuracy: 0.4536\n",
      "Epoch 22, CIFAR-10 Batch 1:  Loss: 2043.4464  Validation accuracy: 0.4512\n",
      "Epoch 23, CIFAR-10 Batch 1:  Loss: 4421.1611  Validation accuracy: 0.4182\n",
      "Epoch 24, CIFAR-10 Batch 1:  Loss: 2962.3833  Validation accuracy: 0.4222\n",
      "Epoch 25, CIFAR-10 Batch 1:  Loss: 2381.5874  Validation accuracy: 0.4198\n",
      "Epoch 26, CIFAR-10 Batch 1:  Loss: 1159.5112  Validation accuracy: 0.4472\n",
      "Epoch 27, CIFAR-10 Batch 1:  Loss: 853.7563  Validation accuracy: 0.4560\n",
      "Epoch 28, CIFAR-10 Batch 1:  Loss: 826.5828  Validation accuracy: 0.4456\n",
      "Epoch 29, CIFAR-10 Batch 1:  Loss: 469.4076  Validation accuracy: 0.4556\n",
      "Epoch 30, CIFAR-10 Batch 1:  Loss: 1024.7203  Validation accuracy: 0.4510\n"
     ]
    }
   ],
   "source": [
    "\"\"\"\n",
    "DON'T MODIFY ANYTHING IN THIS CELL\n",
    "\"\"\"\n",
    "print('Checking the Training on a Single Batch...')\n",
    "with tf.Session() as sess:\n",
    "    # Initializing the variables\n",
    "    sess.run(tf.global_variables_initializer())\n",
    "    \n",
    "    # Training cycle\n",
    "    for epoch in range(epochs):\n",
    "        batch_i = 1\n",
    "        for batch_features, batch_labels in helper.load_preprocess_training_batch(batch_i, batch_size):\n",
    "            train_neural_network(sess, optimizer, keep_probability, batch_features, batch_labels)\n",
    "        print('Epoch {:>2}, CIFAR-10 Batch {}:  '.format(epoch + 1, batch_i), end='')\n",
    "        print_stats(sess, batch_features, batch_labels, cost, accuracy)"
   ]
  },
  {
   "cell_type": "markdown",
   "metadata": {
    "deletable": true,
    "editable": true
   },
   "source": [
    "### Fully Train the Model\n",
    "Now that you got a good accuracy with a single CIFAR-10 batch, try it with all five batches."
   ]
  },
  {
   "cell_type": "code",
   "execution_count": 145,
   "metadata": {
    "collapsed": false,
    "deletable": true,
    "editable": true
   },
   "outputs": [
    {
     "name": "stdout",
     "output_type": "stream",
     "text": [
      "Training...\n",
      "Epoch  1, CIFAR-10 Batch 1:  Loss: 31365.2266  Validation accuracy: 0.2634\n",
      "Epoch  1, CIFAR-10 Batch 2:  Loss: 30273.0723  Validation accuracy: 0.2832\n",
      "Epoch  1, CIFAR-10 Batch 3:  Loss: 21560.1445  Validation accuracy: 0.2724\n",
      "Epoch  1, CIFAR-10 Batch 4:  Loss: 17380.5508  Validation accuracy: 0.3408\n",
      "Epoch  1, CIFAR-10 Batch 5:  Loss: 14375.5586  Validation accuracy: 0.3390\n",
      "Epoch  2, CIFAR-10 Batch 1:  Loss: 14702.4551  Validation accuracy: 0.3520\n",
      "Epoch  2, CIFAR-10 Batch 2:  Loss: 14592.5908  Validation accuracy: 0.3594\n",
      "Epoch  2, CIFAR-10 Batch 3:  Loss: 9882.8184  Validation accuracy: 0.3582\n",
      "Epoch  2, CIFAR-10 Batch 4:  Loss: 8998.8730  Validation accuracy: 0.3730\n",
      "Epoch  2, CIFAR-10 Batch 5:  Loss: 8677.8066  Validation accuracy: 0.3762\n",
      "Epoch  3, CIFAR-10 Batch 1:  Loss: 9857.3887  Validation accuracy: 0.3902\n",
      "Epoch  3, CIFAR-10 Batch 2:  Loss: 8553.3896  Validation accuracy: 0.4030\n",
      "Epoch  3, CIFAR-10 Batch 3:  Loss: 7014.4600  Validation accuracy: 0.3658\n",
      "Epoch  3, CIFAR-10 Batch 4:  Loss: 5920.7871  Validation accuracy: 0.3970\n",
      "Epoch  3, CIFAR-10 Batch 5:  Loss: 6160.0273  Validation accuracy: 0.3970\n",
      "Epoch  4, CIFAR-10 Batch 1:  Loss: 6751.8584  Validation accuracy: 0.4102\n",
      "Epoch  4, CIFAR-10 Batch 2:  Loss: 4502.0298  Validation accuracy: 0.4212\n",
      "Epoch  4, CIFAR-10 Batch 3:  Loss: 4994.7651  Validation accuracy: 0.4050\n",
      "Epoch  4, CIFAR-10 Batch 4:  Loss: 4074.7139  Validation accuracy: 0.4090\n",
      "Epoch  4, CIFAR-10 Batch 5:  Loss: 5261.1602  Validation accuracy: 0.4048\n",
      "Epoch  5, CIFAR-10 Batch 1:  Loss: 4386.4941  Validation accuracy: 0.4208\n",
      "Epoch  5, CIFAR-10 Batch 2:  Loss: 3222.5479  Validation accuracy: 0.4150\n",
      "Epoch  5, CIFAR-10 Batch 3:  Loss: 3201.2886  Validation accuracy: 0.4112\n",
      "Epoch  5, CIFAR-10 Batch 4:  Loss: 3067.0920  Validation accuracy: 0.4294\n",
      "Epoch  5, CIFAR-10 Batch 5:  Loss: 4019.6377  Validation accuracy: 0.4248\n",
      "Epoch  6, CIFAR-10 Batch 1:  Loss: 3002.8359  Validation accuracy: 0.4292\n",
      "Epoch  6, CIFAR-10 Batch 2:  Loss: 2564.2124  Validation accuracy: 0.4346\n",
      "Epoch  6, CIFAR-10 Batch 3:  Loss: 2359.5483  Validation accuracy: 0.4398\n",
      "Epoch  6, CIFAR-10 Batch 4:  Loss: 2371.9866  Validation accuracy: 0.4458\n",
      "Epoch  6, CIFAR-10 Batch 5:  Loss: 2632.0083  Validation accuracy: 0.4362\n",
      "Epoch  7, CIFAR-10 Batch 1:  Loss: 2376.4153  Validation accuracy: 0.4430\n",
      "Epoch  7, CIFAR-10 Batch 2:  Loss: 1599.0724  Validation accuracy: 0.4332\n",
      "Epoch  7, CIFAR-10 Batch 3:  Loss: 1599.1389  Validation accuracy: 0.4474\n",
      "Epoch  7, CIFAR-10 Batch 4:  Loss: 1935.1339  Validation accuracy: 0.4588\n",
      "Epoch  7, CIFAR-10 Batch 5:  Loss: 1787.1575  Validation accuracy: 0.4528\n",
      "Epoch  8, CIFAR-10 Batch 1:  Loss: 1831.4585  Validation accuracy: 0.4556\n",
      "Epoch  8, CIFAR-10 Batch 2:  Loss: 920.9730  Validation accuracy: 0.4414\n",
      "Epoch  8, CIFAR-10 Batch 3:  Loss: 924.8701  Validation accuracy: 0.4448\n",
      "Epoch  8, CIFAR-10 Batch 4:  Loss: 1374.3829  Validation accuracy: 0.4558\n",
      "Epoch  8, CIFAR-10 Batch 5:  Loss: 1372.3530  Validation accuracy: 0.4496\n",
      "Epoch  9, CIFAR-10 Batch 1:  Loss: 1149.8304  Validation accuracy: 0.4666\n",
      "Epoch  9, CIFAR-10 Batch 2:  Loss: 836.1417  Validation accuracy: 0.4440\n",
      "Epoch  9, CIFAR-10 Batch 3:  Loss: 756.4003  Validation accuracy: 0.4574\n",
      "Epoch  9, CIFAR-10 Batch 4:  Loss: 914.4333  Validation accuracy: 0.4620\n",
      "Epoch  9, CIFAR-10 Batch 5:  Loss: 1071.9606  Validation accuracy: 0.4470\n",
      "Epoch 10, CIFAR-10 Batch 1:  Loss: 880.3676  Validation accuracy: 0.4696\n",
      "Epoch 10, CIFAR-10 Batch 2:  Loss: 526.8769  Validation accuracy: 0.4400\n",
      "Epoch 10, CIFAR-10 Batch 3:  Loss: 394.5735  Validation accuracy: 0.4594\n",
      "Epoch 10, CIFAR-10 Batch 4:  Loss: 691.3845  Validation accuracy: 0.4700\n",
      "Epoch 10, CIFAR-10 Batch 5:  Loss: 706.8165  Validation accuracy: 0.4506\n",
      "Epoch 11, CIFAR-10 Batch 1:  Loss: 719.3877  Validation accuracy: 0.4762\n",
      "Epoch 11, CIFAR-10 Batch 2:  Loss: 258.3103  Validation accuracy: 0.4420\n",
      "Epoch 11, CIFAR-10 Batch 3:  Loss: 367.9164  Validation accuracy: 0.4644\n",
      "Epoch 11, CIFAR-10 Batch 4:  Loss: 599.7697  Validation accuracy: 0.4682\n",
      "Epoch 11, CIFAR-10 Batch 5:  Loss: 597.2851  Validation accuracy: 0.4526\n",
      "Epoch 12, CIFAR-10 Batch 1:  Loss: 690.2113  Validation accuracy: 0.4702\n",
      "Epoch 12, CIFAR-10 Batch 2:  Loss: 331.8596  Validation accuracy: 0.4436\n",
      "Epoch 12, CIFAR-10 Batch 3:  Loss: 184.1731  Validation accuracy: 0.4712\n",
      "Epoch 12, CIFAR-10 Batch 4:  Loss: 307.5182  Validation accuracy: 0.4690\n",
      "Epoch 12, CIFAR-10 Batch 5:  Loss: 409.9748  Validation accuracy: 0.4598\n",
      "Epoch 13, CIFAR-10 Batch 1:  Loss: 599.6488  Validation accuracy: 0.4712\n",
      "Epoch 13, CIFAR-10 Batch 2:  Loss: 242.0861  Validation accuracy: 0.4530\n",
      "Epoch 13, CIFAR-10 Batch 3:  Loss: 79.4766  Validation accuracy: 0.4690\n",
      "Epoch 13, CIFAR-10 Batch 4:  Loss: 327.9267  Validation accuracy: 0.4622\n",
      "Epoch 13, CIFAR-10 Batch 5:  Loss: 314.5685  Validation accuracy: 0.4664\n",
      "Epoch 14, CIFAR-10 Batch 1:  Loss: 441.0453  Validation accuracy: 0.4760\n",
      "Epoch 14, CIFAR-10 Batch 2:  Loss: 111.2943  Validation accuracy: 0.4582\n",
      "Epoch 14, CIFAR-10 Batch 3:  Loss: 37.4875  Validation accuracy: 0.4696\n",
      "Epoch 14, CIFAR-10 Batch 4:  Loss: 208.8873  Validation accuracy: 0.4726\n",
      "Epoch 14, CIFAR-10 Batch 5:  Loss: 300.2834  Validation accuracy: 0.4704\n",
      "Epoch 15, CIFAR-10 Batch 1:  Loss: 421.1538  Validation accuracy: 0.4722\n",
      "Epoch 15, CIFAR-10 Batch 2:  Loss: 31.3943  Validation accuracy: 0.4660\n",
      "Epoch 15, CIFAR-10 Batch 3:  Loss: 81.9394  Validation accuracy: 0.4674\n",
      "Epoch 15, CIFAR-10 Batch 4:  Loss: 123.3166  Validation accuracy: 0.4774\n",
      "Epoch 15, CIFAR-10 Batch 5:  Loss: 328.7480  Validation accuracy: 0.4760\n",
      "Epoch 16, CIFAR-10 Batch 1:  Loss: 266.4075  Validation accuracy: 0.4792\n",
      "Epoch 16, CIFAR-10 Batch 2:  Loss: 18.6810  Validation accuracy: 0.4628\n",
      "Epoch 16, CIFAR-10 Batch 3:  Loss: 18.9081  Validation accuracy: 0.4658\n",
      "Epoch 16, CIFAR-10 Batch 4:  Loss: 140.2703  Validation accuracy: 0.4864\n",
      "Epoch 16, CIFAR-10 Batch 5:  Loss: 307.0702  Validation accuracy: 0.4820\n",
      "Epoch 17, CIFAR-10 Batch 1:  Loss: 163.3975  Validation accuracy: 0.4834\n",
      "Epoch 17, CIFAR-10 Batch 2:  Loss: 40.4917  Validation accuracy: 0.4768\n",
      "Epoch 17, CIFAR-10 Batch 3:  Loss: 17.7719  Validation accuracy: 0.4598\n",
      "Epoch 17, CIFAR-10 Batch 4:  Loss: 60.4129  Validation accuracy: 0.4892\n",
      "Epoch 17, CIFAR-10 Batch 5:  Loss: 222.4411  Validation accuracy: 0.4874\n",
      "Epoch 18, CIFAR-10 Batch 1:  Loss: 111.4203  Validation accuracy: 0.4898\n",
      "Epoch 18, CIFAR-10 Batch 2:  Loss: 32.5352  Validation accuracy: 0.4888\n",
      "Epoch 18, CIFAR-10 Batch 3:  Loss: 13.0135  Validation accuracy: 0.4548\n",
      "Epoch 18, CIFAR-10 Batch 4:  Loss: 72.5690  Validation accuracy: 0.4940\n",
      "Epoch 18, CIFAR-10 Batch 5:  Loss: 169.4765  Validation accuracy: 0.4788\n",
      "Epoch 19, CIFAR-10 Batch 1:  Loss: 162.5525  Validation accuracy: 0.4868\n",
      "Epoch 19, CIFAR-10 Batch 2:  Loss: 45.6849  Validation accuracy: 0.4768\n",
      "Epoch 19, CIFAR-10 Batch 3:  Loss: 66.7332  Validation accuracy: 0.4668\n",
      "Epoch 19, CIFAR-10 Batch 4:  Loss: 35.2750  Validation accuracy: 0.4836\n",
      "Epoch 19, CIFAR-10 Batch 5:  Loss: 122.7535  Validation accuracy: 0.4812\n",
      "Epoch 20, CIFAR-10 Batch 1:  Loss: 115.5535  Validation accuracy: 0.4732\n",
      "Epoch 20, CIFAR-10 Batch 2:  Loss: 46.9037  Validation accuracy: 0.4746\n",
      "Epoch 20, CIFAR-10 Batch 3:  Loss: 9.0429  Validation accuracy: 0.4780\n",
      "Epoch 20, CIFAR-10 Batch 4:  Loss: 76.0871  Validation accuracy: 0.4918\n",
      "Epoch 20, CIFAR-10 Batch 5:  Loss: 88.6244  Validation accuracy: 0.4818\n",
      "Epoch 21, CIFAR-10 Batch 1:  Loss: 130.6585  Validation accuracy: 0.4816\n",
      "Epoch 21, CIFAR-10 Batch 2:  Loss: 4.6046  Validation accuracy: 0.4820\n",
      "Epoch 21, CIFAR-10 Batch 3:  Loss: 22.7640  Validation accuracy: 0.4728\n",
      "Epoch 21, CIFAR-10 Batch 4:  Loss: 58.4466  Validation accuracy: 0.5024\n",
      "Epoch 21, CIFAR-10 Batch 5:  Loss: 32.3378  Validation accuracy: 0.4866\n",
      "Epoch 22, CIFAR-10 Batch 1:  Loss: 65.5450  Validation accuracy: 0.4964\n",
      "Epoch 22, CIFAR-10 Batch 2:  Loss: 91.9111  Validation accuracy: 0.4588\n",
      "Epoch 22, CIFAR-10 Batch 3:  Loss: 13.9289  Validation accuracy: 0.4636\n",
      "Epoch 22, CIFAR-10 Batch 4:  Loss: 22.5911  Validation accuracy: 0.4910\n",
      "Epoch 22, CIFAR-10 Batch 5:  Loss: 33.8792  Validation accuracy: 0.4878\n",
      "Epoch 23, CIFAR-10 Batch 1:  Loss: 75.1346  Validation accuracy: 0.4980\n",
      "Epoch 23, CIFAR-10 Batch 2:  Loss: 18.2512  Validation accuracy: 0.4872\n",
      "Epoch 23, CIFAR-10 Batch 3:  Loss: 10.0957  Validation accuracy: 0.4774\n",
      "Epoch 23, CIFAR-10 Batch 4:  Loss: 146.2078  Validation accuracy: 0.4842\n",
      "Epoch 23, CIFAR-10 Batch 5:  Loss: 96.7386  Validation accuracy: 0.4768\n",
      "Epoch 24, CIFAR-10 Batch 1:  Loss: 52.3909  Validation accuracy: 0.5026\n",
      "Epoch 24, CIFAR-10 Batch 2:  Loss: 66.2915  Validation accuracy: 0.4800\n",
      "Epoch 24, CIFAR-10 Batch 3:  Loss: 6.6393  Validation accuracy: 0.4788\n",
      "Epoch 24, CIFAR-10 Batch 4:  Loss: 92.7452  Validation accuracy: 0.4882\n",
      "Epoch 24, CIFAR-10 Batch 5:  Loss: 74.4897  Validation accuracy: 0.4684\n",
      "Epoch 25, CIFAR-10 Batch 1:  Loss: 44.7520  Validation accuracy: 0.4918\n",
      "Epoch 25, CIFAR-10 Batch 2:  Loss: 0.0009  Validation accuracy: 0.5004\n",
      "Epoch 25, CIFAR-10 Batch 3:  Loss: 3.1371  Validation accuracy: 0.4816\n",
      "Epoch 25, CIFAR-10 Batch 4:  Loss: 55.1970  Validation accuracy: 0.4840\n",
      "Epoch 25, CIFAR-10 Batch 5:  Loss: 34.9373  Validation accuracy: 0.4906\n",
      "Epoch 26, CIFAR-10 Batch 1:  Loss: 27.3670  Validation accuracy: 0.4974\n",
      "Epoch 26, CIFAR-10 Batch 2:  Loss: 0.0000  Validation accuracy: 0.5056\n",
      "Epoch 26, CIFAR-10 Batch 3:  Loss: 2.3823  Validation accuracy: 0.4882\n",
      "Epoch 26, CIFAR-10 Batch 4:  Loss: 58.3689  Validation accuracy: 0.4868\n",
      "Epoch 26, CIFAR-10 Batch 5:  Loss: 0.0000  Validation accuracy: 0.5000\n",
      "Epoch 27, CIFAR-10 Batch 1:  Loss: 8.6029  Validation accuracy: 0.4998\n",
      "Epoch 27, CIFAR-10 Batch 2:  Loss: 0.0000  Validation accuracy: 0.5096\n",
      "Epoch 27, CIFAR-10 Batch 3:  Loss: 0.0000  Validation accuracy: 0.4892\n",
      "Epoch 27, CIFAR-10 Batch 4:  Loss: 19.5810  Validation accuracy: 0.4912\n",
      "Epoch 27, CIFAR-10 Batch 5:  Loss: 7.0493  Validation accuracy: 0.5014\n",
      "Epoch 28, CIFAR-10 Batch 1:  Loss: 30.7893  Validation accuracy: 0.5000\n",
      "Epoch 28, CIFAR-10 Batch 2:  Loss: 13.1143  Validation accuracy: 0.5012\n",
      "Epoch 28, CIFAR-10 Batch 3:  Loss: 15.3288  Validation accuracy: 0.4872\n",
      "Epoch 28, CIFAR-10 Batch 4:  Loss: 11.2619  Validation accuracy: 0.4936\n",
      "Epoch 28, CIFAR-10 Batch 5:  Loss: 14.8296  Validation accuracy: 0.5016\n",
      "Epoch 29, CIFAR-10 Batch 1:  Loss: 0.0000  Validation accuracy: 0.5120\n",
      "Epoch 29, CIFAR-10 Batch 2:  Loss: 2.6901  Validation accuracy: 0.5032\n",
      "Epoch 29, CIFAR-10 Batch 3:  Loss: 17.0046  Validation accuracy: 0.4782\n",
      "Epoch 29, CIFAR-10 Batch 4:  Loss: 3.7288  Validation accuracy: 0.4960\n",
      "Epoch 29, CIFAR-10 Batch 5:  Loss: 5.3233  Validation accuracy: 0.4974\n",
      "Epoch 30, CIFAR-10 Batch 1:  Loss: 0.0000  Validation accuracy: 0.5058\n",
      "Epoch 30, CIFAR-10 Batch 2:  Loss: 0.6040  Validation accuracy: 0.5116\n",
      "Epoch 30, CIFAR-10 Batch 3:  Loss: 6.4240  Validation accuracy: 0.5002\n",
      "Epoch 30, CIFAR-10 Batch 4:  Loss: 0.0000  Validation accuracy: 0.5126\n",
      "Epoch 30, CIFAR-10 Batch 5:  Loss: 0.0000  Validation accuracy: 0.5130\n"
     ]
    }
   ],
   "source": [
    "\"\"\"\n",
    "DON'T MODIFY ANYTHING IN THIS CELL\n",
    "\"\"\"\n",
    "save_model_path = './image_classification'\n",
    "\n",
    "print('Training...')\n",
    "with tf.Session() as sess:\n",
    "    # Initializing the variables\n",
    "    sess.run(tf.global_variables_initializer())\n",
    "    \n",
    "    # Training cycle\n",
    "    for epoch in range(epochs):\n",
    "        # Loop over all batches\n",
    "        n_batches = 5\n",
    "        for batch_i in range(1, n_batches + 1):\n",
    "            for batch_features, batch_labels in helper.load_preprocess_training_batch(batch_i, batch_size):\n",
    "                train_neural_network(sess, optimizer, keep_probability, batch_features, batch_labels)\n",
    "            print('Epoch {:>2}, CIFAR-10 Batch {}:  '.format(epoch + 1, batch_i), end='')\n",
    "            print_stats(sess, batch_features, batch_labels, cost, accuracy)\n",
    "            \n",
    "    # Save Model\n",
    "    saver = tf.train.Saver()\n",
    "    save_path = saver.save(sess, save_model_path)"
   ]
  },
  {
   "cell_type": "markdown",
   "metadata": {
    "deletable": true,
    "editable": true
   },
   "source": [
    "# Checkpoint\n",
    "The model has been saved to disk.\n",
    "## Test Model\n",
    "Test your model against the test dataset.  This will be your final accuracy. You should have an accuracy greater than 50%. If you don't, keep tweaking the model architecture and parameters."
   ]
  },
  {
   "cell_type": "code",
   "execution_count": 146,
   "metadata": {
    "collapsed": false,
    "deletable": true,
    "editable": true
   },
   "outputs": [
    {
     "name": "stdout",
     "output_type": "stream",
     "text": [
      "Testing Accuracy: 0.5208662974683544\n",
      "\n"
     ]
    },
    {
     "data": {
      "image/png": "[encoded data removed]",
      "text/plain": [
       "<matplotlib.figure.Figure at 0x7fcdbc7b2f98>"
      ]
     },
     "metadata": {
      "image/png": {
       "height": 319,
       "width": 349
      }
     },
     "output_type": "display_data"
    }
   ],
   "source": [
    "\"\"\"\n",
    "DON'T MODIFY ANYTHING IN THIS CELL\n",
    "\"\"\"\n",
    "%matplotlib inline\n",
    "%config InlineBackend.figure_format = 'retina'\n",
    "\n",
    "import tensorflow as tf\n",
    "import pickle\n",
    "import helper\n",
    "import random\n",
    "\n",
    "# Set batch size if not already set\n",
    "try:\n",
    "    if batch_size:\n",
    "        pass\n",
    "except NameError:\n",
    "    batch_size = 64\n",
    "\n",
    "save_model_path = './image_classification'\n",
    "n_samples = 4\n",
    "top_n_predictions = 3\n",
    "\n",
    "def test_model():\n",
    "    \"\"\"\n",
    "    Test the saved model against the test dataset\n",
    "    \"\"\"\n",
    "\n",
    "    test_features, test_labels = pickle.load(open('preprocess_training.p', mode='rb'))\n",
    "    loaded_graph = tf.Graph()\n",
    "\n",
    "    with tf.Session(graph=loaded_graph) as sess:\n",
    "        # Load model\n",
    "        loader = tf.train.import_meta_graph(save_model_path + '.meta')\n",
    "        loader.restore(sess, save_model_path)\n",
    "\n",
    "        # Get Tensors from loaded model\n",
    "        loaded_x = loaded_graph.get_tensor_by_name('x:0')\n",
    "        loaded_y = loaded_graph.get_tensor_by_name('y:0')\n",
    "        loaded_keep_prob = loaded_graph.get_tensor_by_name('keep_prob:0')\n",
    "        loaded_logits = loaded_graph.get_tensor_by_name('logits:0')\n",
    "        loaded_acc = loaded_graph.get_tensor_by_name('accuracy:0')\n",
    "        \n",
    "        # Get accuracy in batches for memory limitations\n",
    "        test_batch_acc_total = 0\n",
    "        test_batch_count = 0\n",
    "        \n",
    "        for train_feature_batch, train_label_batch in helper.batch_features_labels(test_features, test_labels, batch_size):\n",
    "            test_batch_acc_total += sess.run(\n",
    "                loaded_acc,\n",
    "                feed_dict={loaded_x: train_feature_batch, loaded_y: train_label_batch, loaded_keep_prob: 1.0})\n",
    "            test_batch_count += 1\n",
    "\n",
    "        print('Testing Accuracy: {}\\n'.format(test_batch_acc_total/test_batch_count))\n",
    "\n",
    "        # Print Random Samples\n",
    "        random_test_features, random_test_labels = tuple(zip(*random.sample(list(zip(test_features, test_labels)), n_samples)))\n",
    "        random_test_predictions = sess.run(\n",
    "            tf.nn.top_k(tf.nn.softmax(loaded_logits), top_n_predictions),\n",
    "            feed_dict={loaded_x: random_test_features, loaded_y: random_test_labels, loaded_keep_prob: 1.0})\n",
    "        helper.display_image_predictions(random_test_features, random_test_labels, random_test_predictions)\n",
    "\n",
    "\n",
    "test_model()"
   ]
  },
  {
   "cell_type": "markdown",
   "metadata": {
    "deletable": true,
    "editable": true
   },
   "source": [
    "## Why 50-70% Accuracy?\n",
    "You might be wondering why you can't get an accuracy any higher. First things first, 50% isn't bad for a simple CNN.  Pure guessing would get you 10% accuracy. However, you might notice people are getting scores [well above 70%](http://rodrigob.github.io/are_we_there_yet/build/classification_datasets_results.html#43494641522d3130).  That's because we haven't taught you all there is to know about neural networks. We still need to cover a few more techniques.\n",
    "## Submitting This Project\n",
    "When submitting this project, make sure to run all the cells before saving the notebook.  Save the notebook file as \"dlnd_image_classification.ipynb\" and save it as a HTML file under \"File\" -> \"Download as\".  Include the \"helper.py\" and \"problem_unittests.py\" files in your submission."
   ]
  }
 ],
 "metadata": {
  "kernelspec": {
   "display_name": "Python 3",
   "language": "python",
   "name": "python3"
  },
  "language_info": {
   "codemirror_mode": {
    "name": "ipython",
    "version": 3
   },
   "file_extension": ".py",
   "mimetype": "text/x-python",
   "name": "python",
   "nbconvert_exporter": "python",
   "pygments_lexer": "ipython3",
   "version": "3.5.3"
  },
  "widgets": {
   "state": {},
   "version": "1.1.2"
  }
 },
 "nbformat": 4,
 "nbformat_minor": 0
}
